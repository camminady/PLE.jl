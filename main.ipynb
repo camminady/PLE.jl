{
 "cells": [
  {
   "cell_type": "code",
   "execution_count": null,
   "metadata": {},
   "outputs": [],
   "source": [
    "using Revise\n",
    "push!(LOAD_PATH, \"/PATH/TO/DIRECTORY\")\n",
    "using PLE\n",
    "using DelimitedFiles\n",
    "using NPZ"
   ]
  },
  {
   "cell_type": "code",
   "execution_count": null,
   "metadata": {},
   "outputs": [],
   "source": [
    "sigma       = 1.0\n",
    "nobstacles  = 100\n",
    "nparticles  = 1\n",
    "ncollisions = 3\n",
    "\n",
    "@time Collection, Meta = assignlattice(nobstacles, sigma);\n",
    "@time P = getparticles(Collection, Meta,nparticles);\n",
    "@time Events, Pathlengths = gettrajectory(Collection,Meta,P,ncollisions,true);\n",
    "@time visualizeevents(Collection,Meta,Events);\n",
    "#writedlm(\"lattice_\"*string(n)*\".txt\",Pathlengths)"
   ]
  },
  {
   "cell_type": "code",
   "execution_count": null,
   "metadata": {},
   "outputs": [],
   "source": [
    "@time Collection, Meta = assign(nobstacles, sigma);\n",
    "@time P = getparticles(Collection, Meta,nparticles);\n",
    "@time Events, Pathlengths = gettrajectory(Collection,Meta,P,ncollisions,true);\n",
    "@time visualizeevents(Collection,Meta,Events);"
   ]
  }
 ],
 "metadata": {
  "kernel_info": {
   "name": "julia-1.3"
  },
  "kernelspec": {
   "display_name": "Julia 1.4.0",
   "language": "julia",
   "name": "julia-1.4"
  },
  "language_info": {
   "file_extension": ".jl",
   "mimetype": "application/julia",
   "name": "julia",
   "version": "1.4.0"
  },
  "nteract": {
   "version": "0.21.0"
  }
 },
 "nbformat": 4,
 "nbformat_minor": 4
}
